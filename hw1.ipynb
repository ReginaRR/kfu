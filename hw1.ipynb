{
 "cells": [
  {
   "cell_type": "markdown",
   "metadata": {},
   "source": [
    "## Homework for KFU students"
   ]
  },
  {
   "cell_type": "code",
   "execution_count": 1,
   "metadata": {},
   "outputs": [],
   "source": [
    "import numpy as np\n",
    "from matplotlib import pyplot as plt\n",
    "from numpy import linalg as npl\n",
    "import random"
   ]
  },
  {
   "cell_type": "code",
   "execution_count": 2,
   "metadata": {},
   "outputs": [],
   "source": [
    "#Генерация данных\n",
    "data_size = 100\n",
    "x = np.linspace(0, 1, data_size)\n",
    "y = 20 * np.sin(2 * np.pi * 3 * x) + 100 * np.exp(x)\n",
    "x1 = np.linspace(1, 1.5, data_size)\n",
    "e1 = 10 * np.random.randn(data_size)\n",
    "e2 = 10 * np.random.randn(data_size)\n",
    "y1 = y + e1\n",
    "t1_true = np.zeros((data_size, 3))\n",
    "t1_true[:,0]=1\n",
    "y2 = y + e2 + 80\n",
    "t2_true = np.zeros((data_size, 3))\n",
    "t2_true[:,1]=1\n",
    "t3_true = np.zeros((data_size, 3))\n",
    "t3_true[:,2]=1\n",
    "y3 = y + e1"
   ]
  },
  {
   "cell_type": "code",
   "execution_count": 3,
   "metadata": {},
   "outputs": [],
   "source": [
    "# Соединяем наши выборки\n",
    "res_x = np.hstack((x, x, x1))\n",
    "res_y = np.hstack((y1, y2, y3))\n",
    "all_data = np.vstack((res_x, res_y)).T"
   ]
  },
  {
   "cell_type": "code",
   "execution_count": 4,
   "metadata": {},
   "outputs": [],
   "source": [
    "res_t = np.vstack((t1_true, t2_true, t3_true))\n",
    "ind=list(range(len(all_data)))\n",
    "np.random.shuffle(ind)  # Перемешиваем\n",
    "trn_xx=all_data[ind]\n",
    "res_t=res_t[ind]\n",
    "new_res_t = []\n",
    "for i in range(len(res_t)):\n",
    "    if(res_t[i][0] == 1):\n",
    "        new_res_t.append(0)\n",
    "    elif(res_t[i][1] == 1):\n",
    "        new_res_t.append(1)\n",
    "    else:\n",
    "         new_res_t.append(2)\n",
    "res_t = np.array(new_res_t)"
   ]
  },
  {
   "cell_type": "code",
   "execution_count": 5,
   "metadata": {},
   "outputs": [],
   "source": [
    "high_bord = 0.9\n",
    "low_bord = 0.8\n",
    "# Набор обучающих данных\n",
    "trn_x = trn_xx[:int(low_bord * all_data.shape[0])]\n",
    "trn_t = res_t[:int(low_bord * all_data.shape[0])]\n",
    "# Набор валидационных данных\n",
    "vld_x = trn_xx[int(low_bord * all_data.shape[0]):int(high_bord * all_data.shape[0])]\n",
    "vld_t = res_t[int(low_bord * all_data.shape[0]):int(high_bord * all_data.shape[0])]\n",
    "# Набор тестовых данных\n",
    "tst_x = trn_xx[int(high_bord * all_data.shape[0]):]\n",
    "tst_t = res_t[int(high_bord * all_data.shape[0]):]\n"
   ]
  },
  {
   "cell_type": "code",
   "execution_count": 6,
   "metadata": {},
   "outputs": [],
   "source": [
    "from sklearn.linear_model import LogisticRegression\n",
    "my_lambda = 1\n",
    "my_gamma = 0.001"
   ]
  },
  {
   "attachments": {
    "image.png": {
     "image/png": "[encoded data removed]"
    }
   },
   "cell_type": "markdown",
   "metadata": {},
   "source": [
    "![image.png](attachment:image.png)"
   ]
  },
  {
   "cell_type": "code",
   "execution_count": 7,
   "metadata": {},
   "outputs": [],
   "source": [
    "class MySoftmaxRegr(object):\n",
    "    def __init__(self, eta=0.001, epochs=50,\n",
    "                 minibatches=1,\n",
    "                 n_classes=None,\n",
    "                 random_seed=None):\n",
    "\n",
    "        self.eta = eta\n",
    "        self.epochs = epochs\n",
    "        self.minibatches = minibatches\n",
    "        self.n_classes = n_classes\n",
    "        self.random_seed = random_seed\n",
    "\n",
    "    def _fit(self, X, y, init_params=True):\n",
    "        if init_params:\n",
    "            if self.n_classes is None:\n",
    "                self.n_classes = np.max(y) + 1\n",
    "            self._n_features = X.shape[1]\n",
    "\n",
    "            self.b_, self.w_ = self._init_params(\n",
    "                weights_shape=(self._n_features, self.n_classes),\n",
    "                bias_shape=(self.n_classes,),\n",
    "                random_seed=self.random_seed)\n",
    "            self.cost_ = []\n",
    "\n",
    "        y_enc = self._one_hot(y=y, n_labels=self.n_classes, dtype=np.float)\n",
    "\n",
    "        for i in range(self.epochs):\n",
    "            for idx in self._yield_minibatches_idx(\n",
    "                    n_batches=self.minibatches,\n",
    "                    data_ary=y,\n",
    "                    shuffle=True):\n",
    "                net = self._net_input(X[idx], self.w_, self.b_)\n",
    "                softm = self._softmax(net)\n",
    "                diff = softm - y_enc[idx]\n",
    "                mse = np.mean(diff, axis=0)\n",
    "\n",
    "                grad = np.dot(X[idx].T, diff)\n",
    "                \n",
    "                self.w_ -= (self.eta * grad )\n",
    "                self.b_ -= (self.eta * np.sum(diff, axis=0))\n",
    "\n",
    "            net = self._net_input(X, self.w_, self.b_)\n",
    "            softm = self._softmax(net)\n",
    "            cross_ent = self._cross_entropy(output=softm, y_target=y_enc)\n",
    "            cost = self._cost(cross_ent)\n",
    "            self.cost_.append(cost)\n",
    "        return self\n",
    "\n",
    "    def fit(self, X, y, init_params=True):\n",
    "      \n",
    "        if self.random_seed is not None:\n",
    "            np.random.seed(self.random_seed)\n",
    "        self._fit(X=X, y=y, init_params=init_params)\n",
    "        self._is_fitted = True\n",
    "        return self\n",
    "    \n",
    "    def _predict(self, X):\n",
    "        probas = self.predict_proba(X)\n",
    "        return self._to_classlabels(probas)\n",
    " \n",
    "    def predict(self, X):\n",
    "      \n",
    "        if not self._is_fitted:\n",
    "            raise AttributeError('Model is not fitted, yet.')\n",
    "        return self._predict(X)\n",
    "\n",
    "    def predict_proba(self, X):\n",
    "       \n",
    "        net = self._net_input(X, self.w_, self.b_)\n",
    "        softm = self._softmax(net)\n",
    "        return softm\n",
    "\n",
    "    def _net_input(self, X, W, b):\n",
    "        return (X.dot(W) + b)\n",
    "\n",
    "    def _softmax(self, z):\n",
    "        return (np.exp(z.T) / np.sum(np.exp(z), axis=1)).T\n",
    "\n",
    "    def _cross_entropy(self, output, y_target):\n",
    "        return - np.sum(np.log(output) * (y_target), axis=1)\n",
    "\n",
    "    def _cost(self, cross_entropy):\n",
    "        return 0.5 * np.mean(cross_entropy)\n",
    "\n",
    "    def _to_classlabels(self, z):\n",
    "        return z.argmax(axis=1)\n",
    "    \n",
    "    def _init_params(self, weights_shape, bias_shape=(1,), dtype='float64',\n",
    "                     scale=0.01, random_seed=None):\n",
    "        \"\"\"Initialize weight coefficients.\"\"\"\n",
    "        if random_seed:\n",
    "            np.random.seed(random_seed)\n",
    "        w = np.random.normal(loc=0.0, scale=scale, size=weights_shape)\n",
    "        b = np.zeros(shape=bias_shape)\n",
    "        return b.astype(dtype), w.astype(dtype)\n",
    "    \n",
    "    def _one_hot(self, y, n_labels, dtype):\n",
    "     \n",
    "        mat = np.zeros((len(y), n_labels))\n",
    "        for i, val in enumerate(y):\n",
    "            mat[i, val] = 1\n",
    "        return mat.astype(dtype)    \n",
    "    \n",
    "    def _yield_minibatches_idx(self, n_batches, data_ary, shuffle=True):\n",
    "            indices = np.arange(data_ary.shape[0])\n",
    "\n",
    "            if shuffle:\n",
    "                indices = np.random.permutation(indices)\n",
    "            if n_batches > 1:\n",
    "                remainder = data_ary.shape[0] % n_batches\n",
    "\n",
    "                if remainder:\n",
    "                    minis = np.array_split(indices[:-remainder], n_batches)\n",
    "                    minis[-1] = np.concatenate((minis[-1],\n",
    "                                                indices[-remainder:]),\n",
    "                                               axis=0)\n",
    "                else:\n",
    "                    minis = np.array_split(indices, n_batches)\n",
    "\n",
    "            else:\n",
    "                minis = (indices,)\n",
    "\n",
    "            for idx_batch in minis:\n",
    "                yield idx_batch\n",
    "    \n",
    "    def _shuffle_arrays(self, arrays):\n",
    "        \"\"\"Shuffle arrays in unison.\"\"\"\n",
    "        r = np.random.permutation(len(arrays[0]))\n",
    "        return [ary[r] for ary in arrays]"
   ]
  },
  {
   "cell_type": "code",
   "execution_count": 8,
   "metadata": {},
   "outputs": [
    {
     "data": {
      "image/png": "[encoded data removed]",
      "text/plain": [
       "<Figure size 432x288 with 1 Axes>"
      ]
     },
     "metadata": {
      "needs_background": "light"
     },
     "output_type": "display_data"
    }
   ],
   "source": [
    "#Data visualization\n",
    "plt.plot(all_data[:data_size, 0], all_data[:data_size,1], 'ro')\n",
    "plt.plot(all_data[data_size:2*data_size, 0], all_data[data_size:2*data_size,1],'bo')\n",
    "plt.plot(all_data[2*data_size:, 0], all_data[2*data_size:,1],'go')\n",
    "plt.show()"
   ]
  },
  {
   "cell_type": "code",
   "execution_count": 9,
   "metadata": {},
   "outputs": [
    {
     "name": "stderr",
     "output_type": "stream",
     "text": [
      "c:\\users\\timkabor\\appdata\\local\\programs\\python\\python37\\lib\\site-packages\\ipykernel_launcher.py:77: RuntimeWarning: overflow encountered in exp\n",
      "c:\\users\\timkabor\\appdata\\local\\programs\\python\\python37\\lib\\site-packages\\ipykernel_launcher.py:77: RuntimeWarning: invalid value encountered in true_divide\n",
      "c:\\users\\timkabor\\appdata\\local\\programs\\python\\python37\\lib\\site-packages\\ipykernel_launcher.py:80: RuntimeWarning: divide by zero encountered in log\n",
      "c:\\users\\timkabor\\appdata\\local\\programs\\python\\python37\\lib\\site-packages\\ipykernel_launcher.py:80: RuntimeWarning: invalid value encountered in multiply\n",
      "c:\\users\\timkabor\\appdata\\local\\programs\\python\\python37\\lib\\site-packages\\matplotlib\\contour.py:1243: UserWarning: No contour levels were found within the data range.\n",
      "  warnings.warn(\"No contour levels were found\"\n"
     ]
    },
    {
     "data": {
      "image/png": "[encoded data removed]",
      "text/plain": [
       "<Figure size 432x288 with 1 Axes>"
      ]
     },
     "metadata": {
      "needs_background": "light"
     },
     "output_type": "display_data"
    }
   ],
   "source": [
    "from mlxtend.plotting import plot_decision_regions\n",
    "\n",
    "# Набор обучающих данных\n",
    "trn_x = trn_xx[:int(low_bord * all_data.shape[0])]\n",
    "trn_t = res_t[:int(low_bord * all_data.shape[0])]\n",
    "\n",
    "# Набор тестовых данных\n",
    "tst_x = trn_xx[int(high_bord * all_data.shape[0]):]\n",
    "tst_t = res_t[int(high_bord * all_data.shape[0]):]\n",
    "\n",
    "\n",
    "lr = MySoftmaxRegr(eta=0.01, epochs=10, minibatches=1, random_seed=0)\n",
    "lr.fit(trn_x, trn_t)\n",
    "\n",
    "plot_decision_regions(tst_x, tst_t, clf=lr)\n",
    "plt.title('Softmax Regression - Gradient Descent')\n",
    "plt.show()\n"
   ]
  },
  {
   "cell_type": "code",
   "execution_count": null,
   "metadata": {},
   "outputs": [],
   "source": []
  }
 ],
 "metadata": {
  "kernelspec": {
   "display_name": "Python 3",
   "language": "python",
   "name": "python3"
  },
  "language_info": {
   "codemirror_mode": {
    "name": "ipython",
    "version": 3
   },
   "file_extension": ".py",
   "mimetype": "text/x-python",
   "name": "python",
   "nbconvert_exporter": "python",
   "pygments_lexer": "ipython3",
   "version": "3.7.3"
  }
 },
 "nbformat": 4,
 "nbformat_minor": 2
}
